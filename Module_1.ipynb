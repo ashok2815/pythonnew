{
  "cells": [
    {
      "cell_type": "markdown",
      "metadata": {
        "id": "view-in-github",
        "colab_type": "text"
      },
      "source": [
        "<a href=\"https://colab.research.google.com/github/ashok2815/pythonnew/blob/module-1/Module_1.ipynb\" target=\"_parent\"><img src=\"https://colab.research.google.com/assets/colab-badge.svg\" alt=\"Open In Colab\"/></a>"
      ]
    },
    {
      "cell_type": "markdown",
      "source": [
        ""
      ],
      "metadata": {
        "id": "X_asHIz9eZRr"
      }
    },
    {
      "cell_type": "code",
      "execution_count": null,
      "metadata": {
        "colab": {
          "base_uri": "https://localhost:8080/"
        },
        "id": "oW6jCuBBGHwj",
        "outputId": "649bcf97-8e15-4149-8b3e-c8abbb420cb2"
      },
      "outputs": [
        {
          "name": "stdout",
          "output_type": "stream",
          "text": [
            "5\n",
            "5\n"
          ]
        }
      ],
      "source": [
        "x=int(input())\n",
        "print(x)"
      ]
    },
    {
      "cell_type": "markdown",
      "metadata": {
        "id": "Cb-6CzmNGVoz"
      },
      "source": [
        "Use of print statements and use of (.format )for printing different data types\n",
        "\n"
      ]
    },
    {
      "cell_type": "code",
      "execution_count": null,
      "metadata": {
        "colab": {
          "base_uri": "https://localhost:8080/"
        },
        "id": "9osd05ayGaGj",
        "outputId": "3ea8f959-ef7d-4fde-fdc1-7741de35715a"
      },
      "outputs": [
        {
          "name": "stdout",
          "output_type": "stream",
          "text": [
            "<class 'int'>\n",
            "<class 'float'>\n",
            "<class 'complex'>\n"
          ]
        }
      ],
      "source": [
        "a=1\n",
        "b=3.4\n",
        "c=1j\n",
        "print(type(a))\n",
        "print(type(b))\n",
        "print(type(c))"
      ]
    },
    {
      "cell_type": "markdown",
      "metadata": {
        "id": "ggX6tjMWGe97"
      },
      "source": [
        "Take 2 numbers as user input and add, multiply, divide, subtract, remainder and print the output (Same operations on floating point input as well)"
      ]
    },
    {
      "cell_type": "code",
      "execution_count": null,
      "metadata": {
        "colab": {
          "base_uri": "https://localhost:8080/"
        },
        "id": "ghWdguarGh-L",
        "outputId": "57746c07-eb2b-4ebf-9df6-89cc7b050d47"
      },
      "outputs": [
        {
          "name": "stdout",
          "output_type": "stream",
          "text": [
            "5\n",
            "10\n",
            "add 15.0\n",
            "multi 50.0\n",
            "sub -5.0\n",
            "divi 0.5\n"
          ]
        }
      ],
      "source": [
        "x=int(input())\n",
        "y=float(input())\n",
        "print(\"add\",x+y)\n",
        "print(\"multi\",x*y)\n",
        "print(\"sub\",x-y)\n",
        "print(\"divi\",x/y)"
      ]
    },
    {
      "cell_type": "markdown",
      "metadata": {
        "id": "wc0mjJy7GpL0"
      },
      "source": [
        "Conversion of one unit to another (such as hours to minutes, miles to km and etc)"
      ]
    },
    {
      "cell_type": "code",
      "execution_count": null,
      "metadata": {
        "colab": {
          "base_uri": "https://localhost:8080/"
        },
        "id": "DCdf5ucuGs1r",
        "outputId": "e3e35835-7980-4cae-9886-795ac16a144e"
      },
      "outputs": [
        {
          "name": "stdout",
          "output_type": "stream",
          "text": [
            "40\n",
            "2400.0\n",
            "64.3736\n"
          ]
        }
      ],
      "source": [
        "x=float(input())\n",
        "print(x*60) # hours to min \n",
        "print(x*1.60934) # miles to km "
      ]
    },
    {
      "cell_type": "markdown",
      "metadata": {
        "id": "GO_tPANrGyzD"
      },
      "source": [
        "Usage of mathematical functions in python like math.ceil, floor, fabs, fmod, trunc, pow, sqrt etc."
      ]
    },
    {
      "cell_type": "code",
      "execution_count": null,
      "metadata": {
        "colab": {
          "base_uri": "https://localhost:8080/"
        },
        "id": "DUA2P9ZOG2K7",
        "outputId": "d2340fda-eb47-4d01-9291-dd78d300e0cf"
      },
      "outputs": [
        {
          "name": "stdout",
          "output_type": "stream",
          "text": [
            "3\n",
            "2\n",
            "2.516\n",
            "5.693\n"
          ]
        }
      ],
      "source": [
        "import math\n",
        "\n",
        "x=2.365\n",
        "print(math.ceil(x))\n",
        "y=2.3698\n",
        "print(math.floor(y))\n",
        "z=2.516\n",
        "print(math.fabs(z))\n",
        "a=-5.693\n",
        "print(math.copysign(a,z))"
      ]
    },
    {
      "cell_type": "markdown",
      "metadata": {
        "id": "_CMdlLbiG7nT"
      },
      "source": [
        "Building a mathematical calculator that can perform operations according to user input. Use decision making statement."
      ]
    },
    {
      "cell_type": "code",
      "execution_count": null,
      "metadata": {
        "colab": {
          "background_save": true,
          "base_uri": "https://localhost:8080/"
        },
        "id": "8EpO6LAsG-jz",
        "outputId": "2c99f349-980d-4909-d9e2-187a9b5f42f2"
      },
      "outputs": [
        {
          "name": "stdout",
          "output_type": "stream",
          "text": [
            "Select operation.\n",
            "1.Add\n",
            "2.Subtract\n",
            "3.Multiply\n",
            "4.Divide\n"
          ]
        }
      ],
      "source": [
        "# This function adds two numbers\n",
        "def add(x, y):\n",
        "    return x + y\n",
        "\n",
        "# This function subtracts two numbers\n",
        "def subtract(x, y):\n",
        "    return x - y\n",
        "\n",
        "# This function multiplies two numbers\n",
        "def multiply(x, y):\n",
        "    return x * y\n",
        "\n",
        "# This function divides two numbers\n",
        "def divide(x, y):\n",
        "    return x / y\n",
        "\n",
        "\n",
        "print(\"Select operation.\")\n",
        "print(\"1.Add\")\n",
        "print(\"2.Subtract\")\n",
        "print(\"3.Multiply\")\n",
        "print(\"4.Divide\")\n",
        "\n",
        "while True:\n",
        "    # take input from the user\n",
        "    choice = input(\"Enter choice(1/2/3/4): \")\n",
        "\n",
        "    # check if choice is one of the four options\n",
        "    if choice in ('1', '2', '3', '4'):\n",
        "        num1 = float(input(\"Enter first number: \"))\n",
        "        num2 = float(input(\"Enter second number: \"))\n",
        "\n",
        "        if choice == '1':\n",
        "            print(num1, \"+\", num2, \"=\", add(num1, num2))\n",
        "\n",
        "        elif choice == '2':\n",
        "            print(num1, \"-\", num2, \"=\", subtract(num1, num2))\n",
        "\n",
        "        elif choice == '3':\n",
        "            print(num1, \"*\", num2, \"=\", multiply(num1, num2))\n",
        "\n",
        "        elif choice == '4':\n",
        "            print(num1, \"/\", num2, \"=\", divide(num1, num2))\n",
        "        \n",
        "        # check if user wants another calculation\n",
        "        # break the while loop if answer is no\n",
        "        next_calculation = input(\"Let's do next calculation? (yes/no): \")\n",
        "        if next_calculation == \"no\":\n",
        "          break\n",
        "    \n",
        "    else:\n",
        "        print(\"Invalid Input\")"
      ]
    },
    {
      "cell_type": "markdown",
      "source": [
        "Accepting 5 different subject marks from user and displaying the grade of the student\n"
      ],
      "metadata": {
        "id": "lGJJHlQ2ep3a"
      }
    },
    {
      "cell_type": "code",
      "source": [
        "sub1=int(input(\"Enter marks of the first subject: \"))\n",
        "sub2=int(input(\"Enter marks of the second subject: \"))\n",
        "sub3=int(input(\"Enter marks of the third subject: \"))\n",
        "sub4=int(input(\"Enter marks of the fourth subject: \"))\n",
        "sub5=int(input(\"Enter marks of the fifth subject: \"))\n",
        "avg=(sub1+sub2+sub3+sub4+sub4)/5\n",
        "if(avg>=90):\n",
        "    print(\"Grade: A\")\n",
        "elif(avg>=80 and avg<90):\n",
        "    print(\"Grade: B\")\n",
        "elif(avg>=70 and avg<80):\n",
        "    print(\"Grade: C\")\n",
        "elif(avg>=60 and avg<70):\n",
        "    print(\"Grade: D\")\n",
        "else:\n",
        "    print(\"Grade: F\")"
      ],
      "metadata": {
        "colab": {
          "base_uri": "https://localhost:8080/"
        },
        "id": "MMSnND7kerKa",
        "outputId": "f2cc3382-8488-4a35-e8ba-27f27d5ec1d3"
      },
      "execution_count": null,
      "outputs": [
        {
          "output_type": "stream",
          "name": "stdout",
          "text": [
            "Enter marks of the first subject: 82\n",
            "Enter marks of the second subject: 83\n",
            "Enter marks of the third subject: 85\n",
            "Enter marks of the fourth subject: 89\n",
            "Enter marks of the fifth subject: 90\n",
            "Grade: B\n"
          ]
        }
      ]
    },
    {
      "cell_type": "code",
      "source": [
        ""
      ],
      "metadata": {
        "id": "K26C_cxbtceb"
      },
      "execution_count": null,
      "outputs": []
    },
    {
      "cell_type": "markdown",
      "source": [
        "printing all odd and even numbers"
      ],
      "metadata": {
        "id": "h5qZgedRnKKg"
      }
    },
    {
      "cell_type": "code",
      "source": [
        "a=0\n",
        "b=1\n",
        "even=[]\n",
        "odd=[]\n",
        "for x in range (80):\n",
        "  if a==x%2:\n",
        "    even.append(x)\n",
        "print(even)\n",
        "for y in range(80):\n",
        "  if b==y%2:\n",
        "    odd.append(y)\n",
        "print(odd)\n",
        "print(len(even))\n",
        "print(len(odd))"
      ],
      "metadata": {
        "colab": {
          "base_uri": "https://localhost:8080/"
        },
        "id": "_PxrMElPlSmM",
        "outputId": "4d506a3e-6bb9-4655-a4a3-a348ad620dee"
      },
      "execution_count": null,
      "outputs": [
        {
          "output_type": "stream",
          "name": "stdout",
          "text": [
            "[0, 2, 4, 6, 8, 10, 12, 14, 16, 18, 20, 22, 24, 26, 28, 30, 32, 34, 36, 38, 40, 42, 44, 46, 48, 50, 52, 54, 56, 58, 60, 62, 64, 66, 68, 70, 72, 74, 76, 78]\n",
            "[1, 3, 5, 7, 9, 11, 13, 15, 17, 19, 21, 23, 25, 27, 29, 31, 33, 35, 37, 39, 41, 43, 45, 47, 49, 51, 53, 55, 57, 59, 61, 63, 65, 67, 69, 71, 73, 75, 77, 79]\n",
            "40\n",
            "40\n"
          ]
        }
      ]
    },
    {
      "cell_type": "markdown",
      "source": [
        "\n",
        "Compute the factorial of a given number. b) Compute GCD of two given numbers. c) Generate Fibonacci series up to N numbers"
      ],
      "metadata": {
        "id": "WUAZZ7HqlJAM"
      }
    },
    {
      "cell_type": "code",
      "source": [
        "num =int(input())\n",
        "factorial = 1\n",
        "for i in range(1,num + 1):\n",
        " factorial = factorial*i\n",
        "print(\"The factorial of\",num,\"is\",factorial)\n",
        "\n",
        "def gcdfun (x, y):  \n",
        "    if (y == 0): \n",
        "        return x  \n",
        "    else:  \n",
        "        return gcdfun (y, x % y)  \n",
        "x =int (input ())    \n",
        "y =int (input ())  \n",
        "num = gcdfun(x, y) \n",
        "print(\"GCD of two number is: \")  \n",
        "print(num)"
      ],
      "metadata": {
        "id": "AyCID-frndIN",
        "colab": {
          "base_uri": "https://localhost:8080/"
        },
        "outputId": "5e7e2e8a-92b9-4d01-93ff-7ce19f0f18c6"
      },
      "execution_count": null,
      "outputs": [
        {
          "output_type": "stream",
          "name": "stdout",
          "text": [
            "49\n",
            "The factorial of 49 is 608281864034267560872252163321295376887552831379210240000000000\n",
            "56\n",
            "48\n",
            "GCD of two number is: \n",
            "8\n"
          ]
        }
      ]
    },
    {
      "cell_type": "markdown",
      "source": [
        "Check whether the given input is a) palindrome b) strong c) perfect"
      ],
      "metadata": {
        "id": "0hgrnYNZEbTE"
      }
    },
    {
      "cell_type": "code",
      "source": [
        "n=int(input())\n",
        "temp=n\n",
        "rev=0\n",
        "while(n>0):\n",
        "    dig=n%10\n",
        "    rev=rev*10+dig\n",
        "    n=n//10\n",
        "if(temp==rev):\n",
        "    print(\"The number is a palindrome\")\n",
        "else:\n",
        "    print(\"The number isn't a palindrome!\")\n",
        "\n",
        "#strong number\n",
        "sum1=0\n",
        "temp=n\n",
        "while(n):\n",
        "    i=1\n",
        "    f=1\n",
        "    r=n%10\n",
        "    while(i<=r):\n",
        "        f=f*i\n",
        "        i=i+1\n",
        "    sum1=sum1+f\n",
        "    n=n//10\n",
        "if(sum1==temp):\n",
        "    print(\"The number is a strong number\")\n",
        "else:\n",
        "    print(\"The number is not a strong number!\")\n",
        "\n",
        "#perfect number\n",
        "sum1 = 0\n",
        "for i in range(1, n):\n",
        "    if(n % i == 0):\n",
        "        sum1 = sum1 + i\n",
        "if (sum1 == n):\n",
        "    print(\"The number is a Perfect number\")\n",
        "else:\n",
        "    print(\"The number is not a Perfect number!\")"
      ],
      "metadata": {
        "colab": {
          "base_uri": "https://localhost:8080/"
        },
        "id": "PoUVvlVIEeIU",
        "outputId": "9db07803-9a43-4504-fc17-45ac0851423e"
      },
      "execution_count": null,
      "outputs": [
        {
          "output_type": "stream",
          "name": "stdout",
          "text": [
            "85\n",
            "The number isn't a palindrome!\n",
            "The number is a strong number\n",
            "The number is a Perfect number\n"
          ]
        }
      ]
    },
    {
      "cell_type": "markdown",
      "source": [
        "Compute compound interest using loop for a certain principal and interest amount"
      ],
      "metadata": {
        "id": "1KSF47sOFQ82"
      }
    },
    {
      "cell_type": "code",
      "source": [
        "p = float(input(\"Enter the principal amount : \"))\n",
        "t = float(input(\"Enter the number of years : \"))\n",
        "r = float(input(\"Enter the rate of interest : \"))\n",
        "ci =  p * (pow((1 + r / 100), t))\n",
        "print(\"Compound interest : {}\".format(ci))"
      ],
      "metadata": {
        "colab": {
          "base_uri": "https://localhost:8080/"
        },
        "id": "h9s_15wlFTv6",
        "outputId": "61ad7535-1776-43a0-8150-f97ae33c0962"
      },
      "execution_count": null,
      "outputs": [
        {
          "output_type": "stream",
          "name": "stdout",
          "text": [
            "Enter the principal amount : 15\n",
            "Enter the number of years : 20\n",
            "Enter the rate of interest : 15\n",
            "Compound interest : 245.49806089419133\n"
          ]
        }
      ]
    }
  ],
  "metadata": {
    "colab": {
      "name": "Module 1.ipynb",
      "provenance": [],
      "collapsed_sections": [],
      "authorship_tag": "ABX9TyN2rvDuXvP8/S/zCt81UTht",
      "include_colab_link": true
    },
    "kernelspec": {
      "display_name": "Python 3",
      "name": "python3"
    },
    "language_info": {
      "name": "python"
    }
  },
  "nbformat": 4,
  "nbformat_minor": 0
}