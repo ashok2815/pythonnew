{
  "nbformat": 4,
  "nbformat_minor": 0,
  "metadata": {
    "colab": {
      "name": "module 2.ipynb",
      "provenance": [],
      "authorship_tag": "ABX9TyMquqmUxw/NgCpgoW/PJwuH",
      "include_colab_link": true
    },
    "kernelspec": {
      "name": "python3",
      "display_name": "Python 3"
    },
    "language_info": {
      "name": "python"
    }
  },
  "cells": [
    {
      "cell_type": "markdown",
      "metadata": {
        "id": "view-in-github",
        "colab_type": "text"
      },
      "source": [
        "<a href=\"https://colab.research.google.com/github/ashok2815/pythonnew/blob/module-2/module_2.ipynb\" target=\"_parent\"><img src=\"https://colab.research.google.com/assets/colab-badge.svg\" alt=\"Open In Colab\"/></a>"
      ]
    },
    {
      "cell_type": "markdown",
      "source": [
        "Create a function which accepts two inputs from the user and compute n\n",
        "Cr"
      ],
      "metadata": {
        "id": "LaIxCZhcPNkj"
      }
    },
    {
      "cell_type": "code",
      "execution_count": null,
      "metadata": {
        "id": "-7Z67c-wfKz6"
      },
      "outputs": [],
      "source": [
        "def nCr(n, r):\n",
        "    return (fact(n) /  (fact(r)\n",
        "                 *fact(n -r)))\n",
        "def fact(n):\n",
        "   res = 1\n",
        "   for i in range(2, n+1):\n",
        "     res = res * i\n",
        "   return res \n",
        "   n=5\n",
        "   r=3\n",
        "   print(int(nCr(n, r)))"
      ]
    },
    {
      "cell_type": "markdown",
      "source": [
        "Program to get the difference between the two lists."
      ],
      "metadata": {
        "id": "PU-ub6dUPLy-"
      }
    },
    {
      "cell_type": "code",
      "source": [
        "def Diff(li1, li2):\n",
        "  li_dif = [i for i in li1 + li2 if i not in li1 or i not in li2]\n",
        "  return li_dif\n",
        "li1 = [26, 15, 20, 25, 30, 35, 40]\n",
        "li2 = [25, 40, 35]\n",
        "li3 = Diff(li1, li2)\n",
        "print(li3)\n"
      ],
      "metadata": {
        "id": "Pg0_uuhikBF3",
        "colab": {
          "base_uri": "https://localhost:8080/"
        },
        "outputId": "311977c1-f243-477d-ef20-f6e541482f6e"
      },
      "execution_count": null,
      "outputs": [
        {
          "output_type": "stream",
          "name": "stdout",
          "text": [
            "[26, 15, 20, 30]\n"
          ]
        }
      ]
    },
    {
      "cell_type": "markdown",
      "source": [
        "Program to print a specified list after removing the 0th, 4th and 5th elements.\n",
        "Sample List : ['Red', 'Green', 'White', 'Black', 'Pink', 'Yellow'] "
      ],
      "metadata": {
        "id": "vpM8bkmGPh4r"
      }
    },
    {
      "cell_type": "code",
      "source": [
        "sample = ['a', 'b', 'c', 'd', 'e', 'f']\n",
        "sample.pop(0)\n",
        "sample.pop(3)\n",
        "sample.pop(3)\n",
        "print(sample)"
      ],
      "metadata": {
        "id": "kZFTIAyjmr8-",
        "colab": {
          "base_uri": "https://localhost:8080/"
        },
        "outputId": "390813e8-d28d-4eba-8735-659162a35920"
      },
      "execution_count": null,
      "outputs": [
        {
          "output_type": "stream",
          "name": "stdout",
          "text": [
            "['b', 'c', 'd']\n"
          ]
        }
      ]
    },
    {
      "cell_type": "markdown",
      "source": [
        "Program to find the second smallest number and second largest number in a list"
      ],
      "metadata": {
        "id": "LtHzy8c9PpqC"
      }
    },
    {
      "cell_type": "code",
      "source": [
        "list = [7, 6, 8, 3, 4, 5]\n",
        "def dc() :\n",
        "   a = sorted(list)\n",
        "   small2 = list[1]\n",
        "   large2 = list[-2]\n",
        "   print(small2)\n",
        "   print(large2)\n",
        "dc()"
      ],
      "metadata": {
        "colab": {
          "base_uri": "https://localhost:8080/"
        },
        "id": "_n57MHoq94mp",
        "outputId": "a83168fe-80d5-48fb-9c15-19a01b4bc553"
      },
      "execution_count": null,
      "outputs": [
        {
          "output_type": "stream",
          "name": "stdout",
          "text": [
            "6\n",
            "4\n"
          ]
        }
      ]
    },
    {
      "cell_type": "markdown",
      "source": [
        "Given a list of numbers of list, write a Python program to create a list of tuples\n",
        "having first element as the number and second element as the square of the \n",
        "number"
      ],
      "metadata": {
        "id": "uZlKLjlfPvfE"
      }
    },
    {
      "cell_type": "code",
      "source": [
        "a = [8,6,9,5,3]\n",
        "b = []\n",
        "for i in a :\n",
        "  c = (i,i*i)\n",
        "  b.append(c)\n",
        "  c = tuple(b)\n",
        "print(c)"
      ],
      "metadata": {
        "colab": {
          "base_uri": "https://localhost:8080/"
        },
        "id": "mawpMPvh_gKO",
        "outputId": "a49d7de9-1866-49ae-ace5-84d6bd7cebe5"
      },
      "execution_count": null,
      "outputs": [
        {
          "output_type": "stream",
          "name": "stdout",
          "text": [
            "((8, 64), (6, 36), (9, 81), (5, 25), (3, 9))\n"
          ]
        }
      ]
    },
    {
      "cell_type": "markdown",
      "source": [
        "Given list of tuples, remove all the tuples with length K.\n",
        "Input : test_list = [(4, 5), (4, ), (8, 6, 7), (1, ), (3, 4, 6, 7)], K = 2\n",
        "Output : [(4, ), (8, 6, 7), (1, ), (3, 4, 6, 7)]\n",
        "Explanation : (4, 5) of len = 2 is removed."
      ],
      "metadata": {
        "id": "NBQqwjA5P2LC"
      }
    },
    {
      "cell_type": "code",
      "source": [
        "a = [(4,5) , (4,) , (8,6,7) , (1,) , (3,4,6,7)]\n",
        "i = 0\n",
        "while i < len(a) :\n",
        "  if len(a[i]) == 2 :\n",
        "    a.pop(i)\n",
        "  else :\n",
        "    i = i + 1\n",
        "    print(a)"
      ],
      "metadata": {
        "colab": {
          "base_uri": "https://localhost:8080/"
        },
        "id": "s_5kZmpvAs5Z",
        "outputId": "7f9e49f7-5376-4395-8a83-43735278c29a"
      },
      "execution_count": null,
      "outputs": [
        {
          "output_type": "stream",
          "name": "stdout",
          "text": [
            "[(4,), (8, 6, 7), (1,), (3, 4, 6, 7)]\n",
            "[(4,), (8, 6, 7), (1,), (3, 4, 6, 7)]\n",
            "[(4,), (8, 6, 7), (1,), (3, 4, 6, 7)]\n",
            "[(4,), (8, 6, 7), (1,), (3, 4, 6, 7)]\n"
          ]
        }
      ]
    },
    {
      "cell_type": "markdown",
      "source": [
        ""
      ],
      "metadata": {
        "id": "F7H_vJjdQCnS"
      }
    },
    {
      "cell_type": "code",
      "source": [
        "##Program to remove a key from a dictionary\n",
        "\n",
        "myDict = {'a':1,'b':2,'c':3,'d':4}\n",
        "if 'a' in myDict: \n",
        "    del myDict['a']\n",
        "print(myDict)"
      ],
      "metadata": {
        "colab": {
          "base_uri": "https://localhost:8080/"
        },
        "id": "f60gb9KVOt_d",
        "outputId": "3b29b4f9-ebe5-47bb-c52d-7353175a9ec7"
      },
      "execution_count": null,
      "outputs": [
        {
          "output_type": "stream",
          "name": "stdout",
          "text": [
            "{'b': 2, 'c': 3, 'd': 4}\n"
          ]
        }
      ]
    },
    {
      "cell_type": "code",
      "source": [
        "##Program to get the maximum and minimum value in a dictionary.\n",
        "\n",
        "a = {300,385,6324,7614,3843,674}\n",
        "print(max(a),min(a))"
      ],
      "metadata": {
        "colab": {
          "base_uri": "https://localhost:8080/"
        },
        "id": "Ex9tlazqQWVZ",
        "outputId": "3e8db3b7-7f85-478b-c136-1488e7f8004a"
      },
      "execution_count": null,
      "outputs": [
        {
          "output_type": "stream",
          "name": "stdout",
          "text": [
            "7614 300\n"
          ]
        }
      ]
    },
    {
      "cell_type": "code",
      "source": [
        "##Program to perform operations on string using unicodes ,splitting of string,accessing elements of string using locations\n",
        "\n",
        "a= \"rohit is a opener batsmen\"\n",
        "print(a.split())\n",
        "print(a[2:8])"
      ],
      "metadata": {
        "colab": {
          "base_uri": "https://localhost:8080/"
        },
        "id": "AtA-_bdOQuaN",
        "outputId": "4bb0aed9-af2c-42c4-afbb-cb498ca1ab5c"
      },
      "execution_count": null,
      "outputs": [
        {
          "output_type": "stream",
          "name": "stdout",
          "text": [
            "['rohit', 'is', 'a', 'opener', 'batsmen']\n",
            "hit is\n"
          ]
        }
      ]
    },
    {
      "cell_type": "code",
      "source": [
        "##Program for replacing one substring by another\n",
        "\n",
        "a=\"rohit sharma\"\n",
        "print (a.replace(\"r\" , \"e\" ))"
      ],
      "metadata": {
        "colab": {
          "base_uri": "https://localhost:8080/"
        },
        "id": "6g247UfGQ8Ya",
        "outputId": "e06d7b99-b5d5-4502-c7a4-95ad35f09a0d"
      },
      "execution_count": null,
      "outputs": [
        {
          "output_type": "stream",
          "name": "stdout",
          "text": [
            "eohit shaema\n"
          ]
        }
      ]
    },
    {
      "cell_type": "code",
      "source": [
        "##Program to Acronym generator for any user input \n",
        "\n",
        "import random\n",
        "a=input(\"enter the command \")\n",
        "if \"rohit\"==a:\n",
        "    for x in range(5):\n",
        "        a=random.randint(2,5)\n",
        "        print(a)"
      ],
      "metadata": {
        "colab": {
          "base_uri": "https://localhost:8080/"
        },
        "id": "hvZbVCFwRRGn",
        "outputId": "f5ff341b-a7b9-41f7-b9ab-8d088a249808"
      },
      "execution_count": null,
      "outputs": [
        {
          "output_type": "stream",
          "name": "stdout",
          "text": [
            "enter the command rohit\n",
            "4\n",
            "3\n",
            "2\n",
            "3\n",
            "3\n"
          ]
        }
      ]
    },
    {
      "cell_type": "code",
      "source": [
        "##Python function that accepts a string and calculates the number of uppercase letters and lowercase letters.\n",
        "\n",
        "def string(a):\n",
        "    b=0;c=0\n",
        "    for x in a:\n",
        "        if x.isupper():\n",
        "           b=b+1\n",
        "        else:\n",
        "           c=c+1\n",
        "    print(\"the lower values\", b)\n",
        "    print(\"the upper values\", c)\n",
        "\n",
        "string(\"rohIt sHarma\")"
      ],
      "metadata": {
        "colab": {
          "base_uri": "https://localhost:8080/"
        },
        "id": "Xhz3tURMS__j",
        "outputId": "a8e4cc72-9b16-44f3-e152-455ab5f7c5dc"
      },
      "execution_count": null,
      "outputs": [
        {
          "output_type": "stream",
          "name": "stdout",
          "text": [
            "the lower values 2\n",
            "the upper values 10\n"
          ]
        }
      ]
    }
  ]
}